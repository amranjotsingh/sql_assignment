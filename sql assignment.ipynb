{
 "cells": [
  {
   "cell_type": "code",
   "execution_count": null,
   "id": "fea5be64-6181-41b2-937c-db16b2f7cf48",
   "metadata": {},
   "outputs": [],
   "source": [
    "# Q1. What is a database? Differentiate between SQL and NoSQL databases."
   ]
  },
  {
   "cell_type": "code",
   "execution_count": 1,
   "id": "6cad3d8d-a9d5-4d48-9430-91c2d84e840a",
   "metadata": {},
   "outputs": [],
   "source": [
    "# A database is a collection of structured data that is organized in a way that allows for \n",
    "# efficient storage, retrieval, and management of data. Databases are commonly used in many \n",
    "# applications, including e-commerce, social media, finance, and healthcare, among others.\n",
    "\n",
    "# SQL and NoSQL are two different types of database management systems that differ in their\n",
    "# approach to data storage and retrieval.\n",
    "\n",
    "# SQL, which stands for Structured Query Language, is a relational database management system \n",
    "# that uses tables to store data. SQL databases are based on the relational model, where data \n",
    "# is organized into tables consisting of rows and columns. SQL databases use a schema to define\n",
    "# the structure of the data and the relationships between tables.\n",
    "\n",
    "# NoSQL, on the other hand, stands for Not Only SQL, and is a non-relational database \n",
    "# management system that does not use tables to store data. NoSQL databases are designed\n",
    "# to handle large volumes of unstructured or semi-structured data, and use a variety of \n",
    "# data models, including document-oriented, key-value, and graph-based. \n"
   ]
  },
  {
   "cell_type": "code",
   "execution_count": 2,
   "id": "e0d9ceb9-910a-4d14-8d7a-db63f7927210",
   "metadata": {},
   "outputs": [],
   "source": [
    "# What is DDL? Explain why CREATE, DROP, ALTER, and TRUNCATE are used with an example."
   ]
  },
  {
   "cell_type": "code",
   "execution_count": 3,
   "id": "6b98d7eb-b833-4966-bd98-876423562e23",
   "metadata": {},
   "outputs": [],
   "source": [
    "# DDL stands for Data Definition Language, which is a set of SQL \n",
    "# commands used to define and modify the structure of a database schema. \n",
    "# DDL commands are used to create, modify, and delete objects in a database, \n",
    "# such as tables, views, indexes, and procedures."
   ]
  },
  {
   "cell_type": "code",
   "execution_count": 4,
   "id": "64eece95-59f1-4180-ad43-5c58740a7970",
   "metadata": {},
   "outputs": [],
   "source": [
    "# Create - The create command is used to create new objects in the database such as tables etc. for example\n",
    "# CREATE TABLE mytable (\n",
    "    # id INT PRIMARY KEY,\n",
    "    # name VARCHAR(50) NOT NULL,\n",
    "    # age INT\n",
    "# );\n"
   ]
  },
  {
   "cell_type": "code",
   "execution_count": 5,
   "id": "4f4914b6-538e-4548-b896-e4db9c92a5fa",
   "metadata": {},
   "outputs": [],
   "source": [
    "# DROP: The DROP command is used to delete objects from the database, such as tables.\n",
    "# for example:\n",
    "# DROP TABLE mytable;\n"
   ]
  },
  {
   "cell_type": "code",
   "execution_count": 6,
   "id": "85dea9ec-f1ac-4b50-ac19-8eb7e7cacfee",
   "metadata": {},
   "outputs": [],
   "source": [
    "# ALTER: The ALTER command is used to modify the structure of existing objects in the database, such as tables.\n",
    "#  for example:\n",
    "# ALTER TABLE mytable ADD COLUMN email VARCHAR(100);\n"
   ]
  },
  {
   "cell_type": "code",
   "execution_count": 7,
   "id": "d57b9511-1693-4e91-9ac8-60922be53240",
   "metadata": {},
   "outputs": [],
   "source": [
    "# TRUNCATE: The TRUNCATE command is used to delete all the data from a table while leaving its structure intact. For example, \n",
    "# to delete all the data from the \"mytable\" table, you would use the following syntax:\n",
    "\n",
    "# TRUNCATE TABLE mytable;\n"
   ]
  },
  {
   "cell_type": "code",
   "execution_count": 8,
   "id": "85f486f7-eb10-499c-be2f-f35f69a245ae",
   "metadata": {},
   "outputs": [],
   "source": [
    "# What is DML? Explain INSERT, UPDATE, and DELETE with an example."
   ]
  },
  {
   "cell_type": "code",
   "execution_count": 9,
   "id": "f4598268-bde2-4919-8c3e-6a1ac6aac2cb",
   "metadata": {},
   "outputs": [],
   "source": [
    "# DML stands for Data Manipulation Language, which is a set of SQL commands used \n",
    "# to manipulate data stored in a database.\n",
    "# DML commands are used to insert, update, and delete data from tables in the database.\n",
    "\n",
    "# INSERT:\n",
    "# The INSERT command is used to add new rows of data into a table. \n",
    "# For example, to insert a new row of data into a table called \"customers\", \n",
    "# you would use the following syntax:\n",
    "\n",
    "# INSERT INTO customers (name, email, age) VALUES ('John Smith', 'johnsmith@example.com', 30);\n",
    "\n",
    "\n",
    "# UPDATE:\n",
    "# The UPDATE command is used to modify existing data in a table. \n",
    "# For example, to update the email address of a customer with the name \n",
    "# \"John Smith\" in the \"customers\" table, you would use the following syntax:\n",
    "\n",
    "# UPDATE customers SET email='newemail@example.com' WHERE name='John Smith';\n",
    "\n",
    "# DELETE:\n",
    "# The DELETE command is used to remove data from a table. \n",
    "# For example, to delete a row from the \"customers\" table with the name \n",
    "# \"John Smith\", you would use the following syntax:\n",
    "\n",
    "# DELETE FROM customers WHERE name='John Smith';"
   ]
  },
  {
   "cell_type": "code",
   "execution_count": 10,
   "id": "414a4e4a-38e3-43e3-b0cf-b10a785b2e42",
   "metadata": {},
   "outputs": [],
   "source": [
    "# Q4. What is DQL? Explain SELECT with an example."
   ]
  },
  {
   "cell_type": "code",
   "execution_count": 11,
   "id": "49da5035-50ad-4ae8-ab89-5707505fc5e3",
   "metadata": {},
   "outputs": [],
   "source": [
    "# DQL commands are used to query and filter data stored in tables in the database.\n",
    "\n",
    "# The most commonly used DQL command is SELECT, \n",
    "# which is used to retrieve data from one or more tables in a database. \n",
    "# Here's an example of a SELECT statement:\n",
    "\n",
    "# SELECT * FROM customers;\n",
    "\n",
    "\n",
    "# This statement retrieves all the data from the \"customers\" table in the database. \n",
    "# The \"*\" symbol is used to specify that all columns should be included in the result set.\n",
    "\n",
    "\n",
    "# You can also specify which columns you want to retrieve by \n",
    "# replacing the \"*\" symbol with the names of the columns you want. \n",
    "\n",
    "\n",
    "# You can also use the WHERE clause to filter the data based on certain conditions. \n",
    "# For example, to retrieve only the customers \n",
    "# who are older than 30 years old, you would use the following SELECT statement:\n",
    "\n",
    "# SELECT * FROM customers WHERE age > 30;\n",
    "\n",
    "# You can also use the ORDER BY clause to sort the data in ascending \n",
    "# or descending order based on a specific column. \n"
   ]
  },
  {
   "cell_type": "code",
   "execution_count": 12,
   "id": "94a6a133-a887-4953-aa78-a8ee9fa6c250",
   "metadata": {},
   "outputs": [],
   "source": [
    "# Explain Primary Key and Foreign Key."
   ]
  },
  {
   "cell_type": "code",
   "execution_count": 13,
   "id": "8a6ecd1f-e05d-4dad-a33b-b51d1262d017",
   "metadata": {},
   "outputs": [],
   "source": [
    "#  A primary key is used to ensure that data in the specific column is unique.\n",
    "# A column cannot have NULL values. It is either an existing table column or a column \n",
    "# that is specifically generated by the database according to a defined sequence. \n",
    "\n",
    "# A foreign key is a column or group of columns in a relational database table that provides \n",
    "# a link between data in two tables. It is a column (or columns) that references a column \n",
    "# (most often the primary key) of another table. \n"
   ]
  },
  {
   "cell_type": "code",
   "execution_count": 14,
   "id": "a6d9f62f-7c46-41f4-8733-29c993dfa5a9",
   "metadata": {},
   "outputs": [],
   "source": [
    "# Write a python code to connect MySQL to python. Explain the cursor() and execute() method."
   ]
  },
  {
   "cell_type": "code",
   "execution_count": 2,
   "id": "d961b317-ca31-437b-8e06-b42208dd24d1",
   "metadata": {},
   "outputs": [],
   "source": [
    "# import mysql.connector\n",
    "\n",
    "# # Connect to the MySQL database\n",
    "# mydb = mysql.connector.connect(\n",
    "#   host=\"localhost\",\n",
    "#   user=\"yourusername\",\n",
    "#   password=\"yourpassword\",\n",
    "#   database=\"mydatabase\"\n",
    "# )\n",
    "\n",
    "# # Create a cursor object\n",
    "# mycursor = mydb.cursor()\n",
    "\n",
    "# # Create a table\n",
    "# mycursor.execute(\"CREATE TABLE customers (name VARCHAR(255), address VARCHAR(255))\")\n",
    "\n",
    "# # Insert data into the table\n",
    "# sql = \"INSERT INTO customers (name, address) VALUES (%s, %s)\"\n",
    "# val = (\"John\", \"Highway 21\")\n",
    "# mycursor.execute(sql, val)\n",
    "\n",
    "# # Commit the changes\n",
    "# mydb.commit()\n",
    "\n",
    "# # Retrieve data from the table\n",
    "# mycursor.execute(\"SELECT * FROM customers\")\n",
    "# myresult = mycursor.fetchall()\n",
    "\n",
    "# # Print the data\n",
    "# for x in myresult:\n",
    "#   print(x)\n"
   ]
  },
  {
   "cell_type": "code",
   "execution_count": 3,
   "id": "0abb77a4-0f31-46f7-8a23-a61b01e5ecc5",
   "metadata": {},
   "outputs": [],
   "source": [
    "#  Q- Give the order of execution of SQL clauses in an SQL query."
   ]
  },
  {
   "cell_type": "code",
   "execution_count": null,
   "id": "5603f567-d3c2-42f7-917d-1fd0fa5a26d7",
   "metadata": {},
   "outputs": [],
   "source": [
    "# In a typical SQL query, the order of execution of the SQL clauses is as follows:\n",
    "\n",
    "#     FROM clause: This clause specifies the table or tables from which the data is to be retrieved.\n",
    "\n",
    "#     JOIN clause: If the data is to be retrieved from multiple tables, the JOIN clause is used to specify \n",
    "# how the tables are to be joined.\n",
    "\n",
    "#     WHERE clause: This clause is used to filter the data based on a set of conditions.\n",
    "\n",
    "#     GROUP BY clause: If the data is to be grouped based on one or more columns, the GROUP BY clause is used.\n",
    "\n",
    "#     HAVING clause: This clause is used to filter the groups based on a set of conditions.\n",
    "\n",
    "#     SELECT clause: This clause specifies the columns to be retrieved from the table(s).\n",
    "\n",
    "#     ORDER BY clause: This clause is used to sort the data based on one or more columns.\n",
    "\n",
    "#     LIMIT clause: This clause is used to limit the number of rows returned by the query."
   ]
  }
 ],
 "metadata": {
  "kernelspec": {
   "display_name": "Python 3 (ipykernel)",
   "language": "python",
   "name": "python3"
  },
  "language_info": {
   "codemirror_mode": {
    "name": "ipython",
    "version": 3
   },
   "file_extension": ".py",
   "mimetype": "text/x-python",
   "name": "python",
   "nbconvert_exporter": "python",
   "pygments_lexer": "ipython3",
   "version": "3.10.8"
  }
 },
 "nbformat": 4,
 "nbformat_minor": 5
}
